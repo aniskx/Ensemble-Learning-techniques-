{
 "cells": [
  {
   "cell_type": "markdown",
   "metadata": {},
   "source": [
    "# I AdaBoost for Regression"
   ]
  },
  {
   "cell_type": "markdown",
   "metadata": {},
   "source": [
    "import pandas as pd\n",
    "import matplotlib.pyplot as plt"
   ]
  },
  {
   "cell_type": "code",
   "execution_count": 3,
   "metadata": {},
   "outputs": [
    {
     "data": {
      "text/html": [
       "<div>\n",
       "<style scoped>\n",
       "    .dataframe tbody tr th:only-of-type {\n",
       "        vertical-align: middle;\n",
       "    }\n",
       "\n",
       "    .dataframe tbody tr th {\n",
       "        vertical-align: top;\n",
       "    }\n",
       "\n",
       "    .dataframe thead th {\n",
       "        text-align: right;\n",
       "    }\n",
       "</style>\n",
       "<table border=\"1\" class=\"dataframe\">\n",
       "  <thead>\n",
       "    <tr style=\"text-align: right;\">\n",
       "      <th></th>\n",
       "      <th>cement</th>\n",
       "      <th>slag</th>\n",
       "      <th>flyash</th>\n",
       "      <th>water</th>\n",
       "      <th>superplasticizer</th>\n",
       "      <th>coarseaggregate</th>\n",
       "      <th>fineaggregate</th>\n",
       "      <th>age</th>\n",
       "      <th>csMPa</th>\n",
       "    </tr>\n",
       "  </thead>\n",
       "  <tbody>\n",
       "    <tr>\n",
       "      <th>0</th>\n",
       "      <td>540.0</td>\n",
       "      <td>0.0</td>\n",
       "      <td>0.0</td>\n",
       "      <td>162.0</td>\n",
       "      <td>2.5</td>\n",
       "      <td>1040.0</td>\n",
       "      <td>676.0</td>\n",
       "      <td>28</td>\n",
       "      <td>79.99</td>\n",
       "    </tr>\n",
       "    <tr>\n",
       "      <th>1</th>\n",
       "      <td>540.0</td>\n",
       "      <td>0.0</td>\n",
       "      <td>0.0</td>\n",
       "      <td>162.0</td>\n",
       "      <td>2.5</td>\n",
       "      <td>1055.0</td>\n",
       "      <td>676.0</td>\n",
       "      <td>28</td>\n",
       "      <td>61.89</td>\n",
       "    </tr>\n",
       "    <tr>\n",
       "      <th>2</th>\n",
       "      <td>332.5</td>\n",
       "      <td>142.5</td>\n",
       "      <td>0.0</td>\n",
       "      <td>228.0</td>\n",
       "      <td>0.0</td>\n",
       "      <td>932.0</td>\n",
       "      <td>594.0</td>\n",
       "      <td>270</td>\n",
       "      <td>40.27</td>\n",
       "    </tr>\n",
       "    <tr>\n",
       "      <th>3</th>\n",
       "      <td>332.5</td>\n",
       "      <td>142.5</td>\n",
       "      <td>0.0</td>\n",
       "      <td>228.0</td>\n",
       "      <td>0.0</td>\n",
       "      <td>932.0</td>\n",
       "      <td>594.0</td>\n",
       "      <td>365</td>\n",
       "      <td>41.05</td>\n",
       "    </tr>\n",
       "    <tr>\n",
       "      <th>4</th>\n",
       "      <td>198.6</td>\n",
       "      <td>132.4</td>\n",
       "      <td>0.0</td>\n",
       "      <td>192.0</td>\n",
       "      <td>0.0</td>\n",
       "      <td>978.4</td>\n",
       "      <td>825.5</td>\n",
       "      <td>360</td>\n",
       "      <td>44.30</td>\n",
       "    </tr>\n",
       "  </tbody>\n",
       "</table>\n",
       "</div>"
      ],
      "text/plain": [
       "   cement   slag  flyash  water  superplasticizer  coarseaggregate  \\\n",
       "0   540.0    0.0     0.0  162.0               2.5           1040.0   \n",
       "1   540.0    0.0     0.0  162.0               2.5           1055.0   \n",
       "2   332.5  142.5     0.0  228.0               0.0            932.0   \n",
       "3   332.5  142.5     0.0  228.0               0.0            932.0   \n",
       "4   198.6  132.4     0.0  192.0               0.0            978.4   \n",
       "\n",
       "   fineaggregate  age  csMPa  \n",
       "0          676.0   28  79.99  \n",
       "1          676.0   28  61.89  \n",
       "2          594.0  270  40.27  \n",
       "3          594.0  365  41.05  \n",
       "4          825.5  360  44.30  "
      ]
     },
     "execution_count": 3,
     "metadata": {},
     "output_type": "execute_result"
    }
   ],
   "source": [
    "concrete = pd.read_csv('concrete_data.csv')\n",
    "\n",
    "concrete.head()"
   ]
  },
  {
   "cell_type": "code",
   "execution_count": 30,
   "metadata": {},
   "outputs": [],
   "source": [
    "X = concrete.drop('csMPa', axis=1)\n",
    "\n",
    "Y = concrete['csMPa']"
   ]
  },
  {
   "cell_type": "code",
   "execution_count": 31,
   "metadata": {},
   "outputs": [],
   "source": [
    "from sklearn.model_selection import train_test_split\n",
    "\n",
    "x_train, x_test, y_train, y_test = train_test_split(X, Y, test_size=0.2)"
   ]
  },
  {
   "cell_type": "markdown",
   "metadata": {},
   "source": [
    "### AdaBoostRegressor\n",
    "https://scikit-learn.org/stable/modules/generated/sklearn.ensemble.AdaBoostRegressor.html"
   ]
  },
  {
   "cell_type": "code",
   "execution_count": 32,
   "metadata": {},
   "outputs": [],
   "source": [
    "from sklearn.ensemble import AdaBoostRegressor\n",
    "from sklearn.tree import DecisionTreeRegressor"
   ]
  },
  {
   "cell_type": "code",
   "execution_count": 33,
   "metadata": {},
   "outputs": [
    {
     "data": {
      "text/plain": [
       "AdaBoostRegressor(base_estimator=DecisionTreeRegressor(ccp_alpha=0.0,\n",
       "                                                       criterion='mse',\n",
       "                                                       max_depth=4,\n",
       "                                                       max_features=None,\n",
       "                                                       max_leaf_nodes=None,\n",
       "                                                       min_impurity_decrease=0.0,\n",
       "                                                       min_impurity_split=None,\n",
       "                                                       min_samples_leaf=1,\n",
       "                                                       min_samples_split=2,\n",
       "                                                       min_weight_fraction_leaf=0.0,\n",
       "                                                       presort='deprecated',\n",
       "                                                       random_state=None,\n",
       "                                                       splitter='best'),\n",
       "                  learning_rate=1.0, loss='linear', n_estimators=100,\n",
       "                  random_state=None)"
      ]
     },
     "execution_count": 33,
     "metadata": {},
     "output_type": "execute_result"
    }
   ],
   "source": [
    "ada_reg = AdaBoostRegressor(DecisionTreeRegressor(max_depth=4), \n",
    "                            n_estimators=100, \n",
    "                            learning_rate=1.0)\n",
    "\n",
    "ada_reg.fit(x_train, y_train)"
   ]
  },
  {
   "cell_type": "code",
   "execution_count": 34,
   "metadata": {},
   "outputs": [
    {
     "data": {
      "text/plain": [
       "array([1.41937778, 1.37839086, 0.84856873, 1.59036838, 1.30993624,\n",
       "       0.92745578, 1.19993786, 0.89287818, 1.06689333, 1.01104112,\n",
       "       0.70135561, 0.92834583, 1.12309334, 0.99427925, 1.19157721,\n",
       "       0.88430409, 1.32205968, 1.23914854, 1.33650499, 1.3867242 ,\n",
       "       1.01335502, 1.08033139, 0.98767128, 0.95927871, 0.69831897,\n",
       "       0.66120451, 0.70872192, 0.98577467, 0.59637163, 0.48796964,\n",
       "       1.17569215, 1.19221325, 0.57700038, 0.69896144, 1.01275247,\n",
       "       1.35701244, 1.2435103 , 0.61471879, 0.37537891, 0.52584743,\n",
       "       0.697212  , 0.76368507, 0.54638848, 0.92922133, 0.72531258,\n",
       "       0.44695703, 0.56107389, 0.73199338, 0.9633853 , 1.09661157,\n",
       "       1.11437559, 0.58655392, 0.63164526, 0.31940836, 0.56613026,\n",
       "       0.54830139, 0.72280179, 1.16867236, 0.53240118, 0.42120677,\n",
       "       0.7215334 , 0.64089749, 0.92301333, 0.48603379, 1.15543596,\n",
       "       0.73586708, 0.74754634, 0.71804276, 0.87267824, 0.958762  ,\n",
       "       0.97533695, 0.90219501, 0.89880801, 0.89526114, 0.74299023,\n",
       "       0.56225531, 0.454593  , 0.85668499, 1.27771227, 0.40515157,\n",
       "       1.10375675, 1.00947051, 1.09211865, 0.78009204, 1.10202388,\n",
       "       0.75084822, 0.99328653, 1.03780043, 0.66870105, 1.06760853,\n",
       "       0.79733187, 0.81594917, 0.89333394, 0.4952809 , 0.78121626,\n",
       "       0.88928723, 0.73422988, 0.70374853, 1.14404705, 0.15453158])"
      ]
     },
     "execution_count": 34,
     "metadata": {},
     "output_type": "execute_result"
    }
   ],
   "source": [
    "# compute the predictions of all predictors and weighs them using \n",
    "# the predictor weighs \n",
    "# display the weighs \n",
    "ada_reg.estimator_weights_"
   ]
  },
  {
   "cell_type": "markdown",
   "metadata": {},
   "source": [
    "There are 100 weights corresponding to 100 estimators"
   ]
  },
  {
   "cell_type": "code",
   "execution_count": 9,
   "metadata": {},
   "outputs": [],
   "source": [
    "y_pred = ada_reg.predict(x_test)"
   ]
  },
  {
   "cell_type": "code",
   "execution_count": 10,
   "metadata": {},
   "outputs": [
    {
     "data": {
      "text/plain": [
       "0.8316225601611642"
      ]
     },
     "execution_count": 10,
     "metadata": {},
     "output_type": "execute_result"
    }
   ],
   "source": [
    "from sklearn.metrics import r2_score\n",
    "\n",
    "r2_score(y_test, y_pred)"
   ]
  },
  {
   "cell_type": "code",
   "execution_count": 11,
   "metadata": {},
   "outputs": [
    {
     "data": {
      "text/plain": [
       "AdaBoostRegressor(base_estimator=DecisionTreeRegressor(ccp_alpha=0.0,\n",
       "                                                       criterion='mse',\n",
       "                                                       max_depth=2,\n",
       "                                                       max_features=None,\n",
       "                                                       max_leaf_nodes=None,\n",
       "                                                       min_impurity_decrease=0.0,\n",
       "                                                       min_impurity_split=None,\n",
       "                                                       min_samples_leaf=1,\n",
       "                                                       min_samples_split=2,\n",
       "                                                       min_weight_fraction_leaf=0.0,\n",
       "                                                       presort='deprecated',\n",
       "                                                       random_state=None,\n",
       "                                                       splitter='best'),\n",
       "                  learning_rate=0.5, loss='linear', n_estimators=200,\n",
       "                  random_state=None)"
      ]
     },
     "execution_count": 11,
     "metadata": {},
     "output_type": "execute_result"
    }
   ],
   "source": [
    "# intialize a diffrent estimator \n",
    "# increase the number of estimators and use of a small learning rate\n",
    "ada_reg = AdaBoostRegressor(DecisionTreeRegressor(max_depth=2), \n",
    "                            n_estimators=200, \n",
    "                            learning_rate=0.5)\n",
    "\n",
    "ada_reg.fit(x_train, y_train)"
   ]
  },
  {
   "cell_type": "code",
   "execution_count": 12,
   "metadata": {},
   "outputs": [
    {
     "data": {
      "text/plain": [
       "array([0.62777107, 0.50244386, 0.58945492, 0.52024355, 0.30994481,\n",
       "       0.4853165 , 0.61045552, 0.52716673, 0.48143771, 0.55307162,\n",
       "       0.28148949, 0.23937223, 0.427773  , 0.46912991, 0.27024071,\n",
       "       0.41613823, 0.58173123, 0.25831513, 0.31536095, 0.48186424,\n",
       "       0.3491853 , 0.41270275, 0.41792065, 0.38682783, 0.38799219,\n",
       "       0.19978339, 0.29539033, 0.49112628, 0.39875484, 0.30798438,\n",
       "       0.35390761, 0.27293539, 0.47469134, 0.35000036, 0.17996454,\n",
       "       0.47572322, 0.45021059, 0.31330586, 0.37274509, 0.40926801,\n",
       "       0.19462819, 0.27687068, 0.24265264, 0.46152342, 0.44943881,\n",
       "       0.31719559, 0.38648088, 0.36680969, 0.21594115, 0.33490236,\n",
       "       0.34720755, 0.44076971, 0.22247241, 0.41105993, 0.32911242,\n",
       "       0.30807628, 0.30874574, 0.18039694, 0.49693842, 0.242206  ,\n",
       "       0.29922571, 0.28056049, 0.2802052 , 0.49071848, 0.34246673,\n",
       "       0.46145419, 0.42556713, 0.23948646, 0.35207272, 0.37461524,\n",
       "       0.55679391, 0.30915552, 0.47270272, 0.21019221, 0.446542  ,\n",
       "       0.31145598, 0.1202398 , 0.28575183, 0.29522338, 0.22410604,\n",
       "       0.48559011, 0.32258789, 0.2654814 , 0.25881167, 0.43339156,\n",
       "       0.21364819, 0.15444939, 0.42979716, 0.27001918, 0.31065511,\n",
       "       0.32517   , 0.32114706, 0.38180692, 0.20288668, 0.241757  ,\n",
       "       0.14357476, 0.28430358, 0.40595087, 0.23449612, 0.18519286,\n",
       "       0.26240554, 0.39973697, 0.16044748, 0.58668064, 0.26812707,\n",
       "       0.32178423, 0.22561001, 0.27720241, 0.17546923, 0.20633648,\n",
       "       0.14499595, 0.6471217 , 0.40735989, 0.16929026, 0.43235571,\n",
       "       0.26120974, 0.25547748, 0.28954726, 0.16602958, 0.08952667,\n",
       "       0.27169397, 0.64112115, 0.22237076, 0.20938929, 0.31331803,\n",
       "       0.3736269 , 0.24757741, 0.23497137, 0.46457978, 0.45140162,\n",
       "       0.21696532, 0.25189934, 0.27276478, 0.39779825, 0.27234188,\n",
       "       0.60235118, 0.20308822, 0.18589137, 0.14931672, 0.2375537 ,\n",
       "       0.48951403, 0.26228003, 0.14739434, 0.20198306, 0.40222832,\n",
       "       0.23043045, 0.26598606, 0.40618627, 0.3620537 , 0.45334239,\n",
       "       0.27637598, 0.2693383 , 0.26131513, 0.37759504, 0.26549712,\n",
       "       0.07456883, 0.4024877 , 0.2698859 , 0.12007011, 0.10504052,\n",
       "       0.3334196 , 0.10447349, 0.25090384, 0.12218213, 0.33874   ,\n",
       "       0.17875793, 0.14577614, 0.35454782, 0.23000232, 0.24853152,\n",
       "       0.31311149, 0.21456118, 0.27719757, 0.2626755 , 0.46450785,\n",
       "       0.30751835, 0.58593885, 0.30517283, 0.14633246, 0.15141431,\n",
       "       0.35187154, 0.39882404, 0.22046567, 0.30131957, 0.52650802,\n",
       "       0.15889679, 0.14724759, 0.3765051 , 0.24881045, 0.30326218,\n",
       "       0.26871801, 0.41614067, 0.2449984 , 0.66616917, 0.23529118,\n",
       "       0.38865081, 0.14777187, 0.45775521, 0.25681728, 0.20661624])"
      ]
     },
     "execution_count": 12,
     "metadata": {},
     "output_type": "execute_result"
    }
   ],
   "source": [
    "ada_reg.estimator_weights_"
   ]
  },
  {
   "cell_type": "code",
   "execution_count": 13,
   "metadata": {},
   "outputs": [],
   "source": [
    "y_pred = ada_reg.predict(x_test)"
   ]
  },
  {
   "cell_type": "code",
   "execution_count": 14,
   "metadata": {},
   "outputs": [
    {
     "data": {
      "text/plain": [
       "0.7097295556865617"
      ]
     },
     "execution_count": 14,
     "metadata": {},
     "output_type": "execute_result"
    }
   ],
   "source": [
    "from sklearn.metrics import r2_score\n",
    "\n",
    "r2_score(y_test, y_pred)"
   ]
  },
  {
   "cell_type": "markdown",
   "metadata": {},
   "source": [
    "# II AdaBoost for classification"
   ]
  },
  {
   "cell_type": "code",
   "execution_count": 17,
   "metadata": {},
   "outputs": [
    {
     "data": {
      "text/html": [
       "<div>\n",
       "<style scoped>\n",
       "    .dataframe tbody tr th:only-of-type {\n",
       "        vertical-align: middle;\n",
       "    }\n",
       "\n",
       "    .dataframe tbody tr th {\n",
       "        vertical-align: top;\n",
       "    }\n",
       "\n",
       "    .dataframe thead th {\n",
       "        text-align: right;\n",
       "    }\n",
       "</style>\n",
       "<table border=\"1\" class=\"dataframe\">\n",
       "  <thead>\n",
       "    <tr style=\"text-align: right;\">\n",
       "      <th></th>\n",
       "      <th>Age</th>\n",
       "      <th>Income</th>\n",
       "      <th>Family</th>\n",
       "      <th>Education</th>\n",
       "      <th>Mortgage</th>\n",
       "      <th>Securities Account</th>\n",
       "      <th>CD Account</th>\n",
       "      <th>Online</th>\n",
       "      <th>CreditCard</th>\n",
       "    </tr>\n",
       "  </thead>\n",
       "  <tbody>\n",
       "    <tr>\n",
       "      <th>0</th>\n",
       "      <td>34</td>\n",
       "      <td>180</td>\n",
       "      <td>1</td>\n",
       "      <td>3</td>\n",
       "      <td>0</td>\n",
       "      <td>0</td>\n",
       "      <td>0</td>\n",
       "      <td>0</td>\n",
       "      <td>0</td>\n",
       "    </tr>\n",
       "    <tr>\n",
       "      <th>1</th>\n",
       "      <td>38</td>\n",
       "      <td>130</td>\n",
       "      <td>4</td>\n",
       "      <td>3</td>\n",
       "      <td>134</td>\n",
       "      <td>0</td>\n",
       "      <td>0</td>\n",
       "      <td>0</td>\n",
       "      <td>0</td>\n",
       "    </tr>\n",
       "    <tr>\n",
       "      <th>2</th>\n",
       "      <td>46</td>\n",
       "      <td>193</td>\n",
       "      <td>2</td>\n",
       "      <td>3</td>\n",
       "      <td>0</td>\n",
       "      <td>0</td>\n",
       "      <td>0</td>\n",
       "      <td>0</td>\n",
       "      <td>0</td>\n",
       "    </tr>\n",
       "    <tr>\n",
       "      <th>3</th>\n",
       "      <td>38</td>\n",
       "      <td>119</td>\n",
       "      <td>1</td>\n",
       "      <td>2</td>\n",
       "      <td>0</td>\n",
       "      <td>0</td>\n",
       "      <td>1</td>\n",
       "      <td>1</td>\n",
       "      <td>1</td>\n",
       "    </tr>\n",
       "    <tr>\n",
       "      <th>4</th>\n",
       "      <td>42</td>\n",
       "      <td>141</td>\n",
       "      <td>3</td>\n",
       "      <td>3</td>\n",
       "      <td>0</td>\n",
       "      <td>1</td>\n",
       "      <td>1</td>\n",
       "      <td>1</td>\n",
       "      <td>0</td>\n",
       "    </tr>\n",
       "  </tbody>\n",
       "</table>\n",
       "</div>"
      ],
      "text/plain": [
       "   Age  Income  Family  Education  Mortgage  Securities Account  CD Account  \\\n",
       "0   34     180       1          3         0                   0           0   \n",
       "1   38     130       4          3       134                   0           0   \n",
       "2   46     193       2          3         0                   0           0   \n",
       "3   38     119       1          2         0                   0           1   \n",
       "4   42     141       3          3         0                   1           1   \n",
       "\n",
       "   Online  CreditCard  \n",
       "0       0           0  \n",
       "1       0           0  \n",
       "2       0           0  \n",
       "3       1           1  \n",
       "4       1           0  "
      ]
     },
     "execution_count": 17,
     "metadata": {},
     "output_type": "execute_result"
    }
   ],
   "source": [
    "# loading data \n",
    "bank_data = pd.read_csv('bank_data_processed.csv')\n",
    "\n",
    "bank_data.head()"
   ]
  },
  {
   "cell_type": "code",
   "execution_count": 18,
   "metadata": {},
   "outputs": [],
   "source": [
    "# extract from the data set x features and target Yc\n",
    "Xc = bank_data.drop('CreditCard', axis=1)\n",
    "\n",
    "Yc = bank_data['CreditCard']"
   ]
  },
  {
   "cell_type": "code",
   "execution_count": 19,
   "metadata": {},
   "outputs": [],
   "source": [
    "# split the data into training data and test subsets\n",
    "from sklearn.model_selection import train_test_split\n",
    "\n",
    "x_trainc, x_testc, y_trainc, y_testc = train_test_split(Xc, Yc, test_size=0.2)"
   ]
  },
  {
   "cell_type": "markdown",
   "metadata": {},
   "source": [
    "### AdaBoostClassifier\n",
    "https://scikit-learn.org/stable/modules/generated/sklearn.ensemble.AdaBoostClassifier.html"
   ]
  },
  {
   "cell_type": "code",
   "execution_count": 35,
   "metadata": {},
   "outputs": [],
   "source": [
    "from sklearn.ensemble import AdaBoostClassifier\n",
    "from sklearn.tree import DecisionTreeClassifier"
   ]
  },
  {
   "cell_type": "code",
   "execution_count": 36,
   "metadata": {},
   "outputs": [
    {
     "data": {
      "text/plain": [
       "AdaBoostClassifier(algorithm='SAMME',\n",
       "                   base_estimator=DecisionTreeClassifier(ccp_alpha=0.0,\n",
       "                                                         class_weight=None,\n",
       "                                                         criterion='gini',\n",
       "                                                         max_depth=1,\n",
       "                                                         max_features=None,\n",
       "                                                         max_leaf_nodes=None,\n",
       "                                                         min_impurity_decrease=0.0,\n",
       "                                                         min_impurity_split=None,\n",
       "                                                         min_samples_leaf=1,\n",
       "                                                         min_samples_split=2,\n",
       "                                                         min_weight_fraction_leaf=0.0,\n",
       "                                                         presort='deprecated',\n",
       "                                                         random_state=None,\n",
       "                                                         splitter='best'),\n",
       "                   learning_rate=1.0, n_estimators=100, random_state=None)"
      ]
     },
     "execution_count": 36,
     "metadata": {},
     "output_type": "execute_result"
    }
   ],
   "source": [
    "# instantiate Adaboost Classifier\n",
    "# use a highly constrained decision tree max_depth = 1 (Stumps)\n",
    "\n",
    "ada_clf = AdaBoostClassifier(DecisionTreeClassifier(max_depth=1), \n",
    "                             n_estimators=100, \n",
    "                             algorithm='SAMME', \n",
    "                             learning_rate=1.0)\n",
    "\n",
    "ada_clf.fit(x_trainc, y_trainc)"
   ]
  },
  {
   "cell_type": "code",
   "execution_count": 37,
   "metadata": {},
   "outputs": [
    {
     "data": {
      "text/plain": [
       "array([1.4325072 , 0.88305179, 0.54542989, 0.34995851, 0.56442635,\n",
       "       0.36867468, 0.25129866, 0.2952865 , 0.43527606, 0.32237393,\n",
       "       0.21979266, 0.21651237, 0.22063904, 0.18191602, 0.13875533,\n",
       "       0.14018541, 0.15421237, 0.1900302 , 0.13802523, 0.20537161,\n",
       "       0.11264939, 0.15357729, 0.27091112, 0.21555873, 0.22827137,\n",
       "       0.10627208, 0.19548405, 0.1496478 , 0.07439556, 0.07447159,\n",
       "       0.09228847, 0.07761242, 0.07375211, 0.02354554, 0.02327156,\n",
       "       0.02300388, 0.02274229, 0.02248658, 0.02258955, 0.08230107,\n",
       "       0.07426495, 0.0707271 , 0.06736838, 0.02088885, 0.0220408 ,\n",
       "       0.02180054, 0.02156546, 0.0213354 , 0.02111019, 0.02088969,\n",
       "       0.02068722, 0.02047542, 0.02067813, 0.02046652, 0.02027221,\n",
       "       0.02006878, 0.02026331, 0.02006007, 0.01987343, 0.01967789,\n",
       "       0.01986474, 0.1259634 , 0.11372239, 0.13309567, 0.19217339,\n",
       "       0.15661294, 0.16372449, 0.12171808, 0.18070254, 0.15730657,\n",
       "       0.08574113, 0.06832922, 0.06507763, 0.05556267, 0.06684251,\n",
       "       0.01952743, 0.01933861, 0.0191534 , 0.01897171, 0.01891217,\n",
       "       0.018735  , 0.01879677, 0.01862175, 0.01856438, 0.01839364,\n",
       "       0.01845311, 0.06164846, 0.05894843, 0.01843736, 0.01826894,\n",
       "       0.01810357, 0.01811239, 0.01794983, 0.01794408, 0.01778451,\n",
       "       0.017793  , 0.01763609, 0.01763052, 0.01747646, 0.01748463])"
      ]
     },
     "execution_count": 37,
     "metadata": {},
     "output_type": "execute_result"
    }
   ],
   "source": [
    "ada_clf.estimator_weights_"
   ]
  },
  {
   "cell_type": "code",
   "execution_count": 38,
   "metadata": {},
   "outputs": [],
   "source": [
    "y_predc = ada_clf.predict(x_testc)"
   ]
  },
  {
   "cell_type": "code",
   "execution_count": 39,
   "metadata": {},
   "outputs": [
    {
     "data": {
      "text/plain": [
       "0.8333333333333334"
      ]
     },
     "execution_count": 39,
     "metadata": {},
     "output_type": "execute_result"
    }
   ],
   "source": [
    "from sklearn.metrics import accuracy_score\n",
    "\n",
    "accuracy_score(y_testc, y_predc)"
   ]
  },
  {
   "cell_type": "raw",
   "metadata": {},
   "source": [
    "Here i use SAMME.R which relies on class probabilities."
   ]
  },
  {
   "cell_type": "code",
   "execution_count": 40,
   "metadata": {},
   "outputs": [
    {
     "data": {
      "text/plain": [
       "AdaBoostClassifier(algorithm='SAMME.R',\n",
       "                   base_estimator=DecisionTreeClassifier(ccp_alpha=0.0,\n",
       "                                                         class_weight=None,\n",
       "                                                         criterion='gini',\n",
       "                                                         max_depth=1,\n",
       "                                                         max_features=None,\n",
       "                                                         max_leaf_nodes=None,\n",
       "                                                         min_impurity_decrease=0.0,\n",
       "                                                         min_impurity_split=None,\n",
       "                                                         min_samples_leaf=1,\n",
       "                                                         min_samples_split=2,\n",
       "                                                         min_weight_fraction_leaf=0.0,\n",
       "                                                         presort='deprecated',\n",
       "                                                         random_state=None,\n",
       "                                                         splitter='best'),\n",
       "                   learning_rate=0.5, n_estimators=100, random_state=None)"
      ]
     },
     "execution_count": 40,
     "metadata": {},
     "output_type": "execute_result"
    }
   ],
   "source": [
    "ada_clf = AdaBoostClassifier(DecisionTreeClassifier(max_depth=1), \n",
    "                             n_estimators=100, \n",
    "                             algorithm='SAMME.R', \n",
    "                             learning_rate=0.5)\n",
    "\n",
    "ada_clf.fit(x_trainc, y_trainc)"
   ]
  },
  {
   "cell_type": "code",
   "execution_count": 41,
   "metadata": {},
   "outputs": [
    {
     "data": {
      "text/plain": [
       "0.8229166666666666"
      ]
     },
     "execution_count": 41,
     "metadata": {},
     "output_type": "execute_result"
    }
   ],
   "source": [
    "y_predc = ada_clf.predict(x_testc)\n",
    "\n",
    "accuracy_score(y_testc, y_predc)"
   ]
  },
  {
   "cell_type": "code",
   "execution_count": null,
   "metadata": {},
   "outputs": [],
   "source": []
  }
 ],
 "metadata": {
  "kernelspec": {
   "display_name": "Python 3",
   "language": "python",
   "name": "python3"
  },
  "language_info": {
   "codemirror_mode": {
    "name": "ipython",
    "version": 3
   },
   "file_extension": ".py",
   "mimetype": "text/x-python",
   "name": "python",
   "nbconvert_exporter": "python",
   "pygments_lexer": "ipython3",
   "version": "3.8.1"
  }
 },
 "nbformat": 4,
 "nbformat_minor": 4
}
